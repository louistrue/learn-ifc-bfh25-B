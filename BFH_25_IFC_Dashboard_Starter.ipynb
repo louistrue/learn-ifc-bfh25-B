{
  "cells": [
    {
      "cell_type": "markdown",
      "metadata": {
        "id": "view-in-github",
        "colab_type": "text"
      },
      "source": [
        "<a href=\"https://colab.research.google.com/github/louistrue/learn-ifc-bfh25-B/blob/main/BFH_25_IFC_Dashboard_Starter.ipynb\" target=\"_parent\"><img src=\"https://colab.research.google.com/assets/colab-badge.svg\" alt=\"Open In Colab\"/></a>"
      ]
    },
    {
      "cell_type": "markdown",
      "metadata": {
        "id": "5ep9-E7QXw8C"
      },
      "source": [
        "<a href=\"https://colab.research.google.com/github/louistrue/learn-ifc-bfh25-B/blob/main/BFH-25-IFC-Dashboard-Starter.ipynb\" target=\"_parent\"><img src=\"https://colab.research.google.com/assets/colab-badge.svg\" alt=\"Open In Colab\"/></a>\n"
      ]
    },
    {
      "cell_type": "markdown",
      "metadata": {
        "id": "ZTrk8ebTXw8G"
      },
      "source": [
        "# IFC Dashboard Starter Template\n",
        "\n",
        "A minimal template to get started building IFC data dashboards.\n",
        "\n",
        "**What this does:**\n",
        "- Load an IFC file from GitHub\n",
        "- Extract element types and building storeys\n",
        "- Create a simple 2-tab dashboard\n"
      ]
    },
    {
      "cell_type": "markdown",
      "metadata": {
        "id": "JZHNL9SBXw8H"
      },
      "source": [
        "## Step 1: Install packages\n"
      ]
    },
    {
      "cell_type": "code",
      "execution_count": 2,
      "metadata": {
        "id": "QyKtgOOKXw8H"
      },
      "outputs": [],
      "source": [
        "%pip install -q ifcopenshell pandas plotly dash\n"
      ]
    },
    {
      "cell_type": "markdown",
      "metadata": {
        "id": "DbxMIttYXw8J"
      },
      "source": [
        "## Step 2: Load IFC file from GitHub\n"
      ]
    },
    {
      "cell_type": "code",
      "execution_count": 3,
      "metadata": {
        "id": "jfjJvw_HXw8J",
        "outputId": "021fce8f-499b-4bca-b9a1-6bcb43d17248",
        "colab": {
          "base_uri": "https://localhost:8080/"
        }
      },
      "outputs": [
        {
          "output_type": "stream",
          "name": "stdout",
          "text": [
            "📥 Downloading IFC file...\n",
            "✅ Downloaded successfully!\n",
            "\n",
            "🏗️ Loaded: IFC2X3\n",
            "📊 Total elements: 1943\n"
          ]
        }
      ],
      "source": [
        "import urllib.request\n",
        "import ifcopenshell\n",
        "\n",
        "# Download IFC file from GitHub\n",
        "github_url = 'https://raw.githubusercontent.com/louistrue/learn-ifc-bfh25-B/main/FireRating/04_CT.ifc'\n",
        "local_filename = '04_CT.ifc'\n",
        "\n",
        "print(\"📥 Downloading IFC file...\")\n",
        "urllib.request.urlretrieve(github_url, local_filename)\n",
        "print(\"✅ Downloaded successfully!\")\n",
        "\n",
        "# Open IFC file\n",
        "model = ifcopenshell.open(local_filename)\n",
        "print(f\"\\n🏗️ Loaded: {model.schema}\")\n",
        "print(f\"📊 Total elements: {len(model.by_type('IfcElement'))}\")\n"
      ]
    },
    {
      "cell_type": "markdown",
      "metadata": {
        "id": "pV6c2EJ9Xw8J"
      },
      "source": [
        "## Step 3: Parse IFC data\n",
        "\n",
        "Extract elements and their building storeys.\n"
      ]
    },
    {
      "cell_type": "code",
      "execution_count": null,
      "metadata": {
        "id": "nyXonlA6Xw8K"
      },
      "outputs": [],
      "source": [
        "import ifcopenshell.util.element as uel\n",
        "import pandas as pd\n",
        "\n",
        "element_data = []\n",
        "\n",
        "for element in model.by_type('IfcElement'):\n",
        "    element_id = element.GlobalId\n",
        "    element_type = element.is_a()\n",
        "    element_name = getattr(element, 'Name', None) or 'Unnamed'\n",
        "\n",
        "    # Property Sets extrahieren\n",
        "    psets = uel.get_psets(element)\n",
        "\n",
        "    # Nach Fire Rating Property suchen\n",
        "    fire_rating = None\n",
        "    for pset_name, properties in psets.items():\n",
        "        # Suche nach verschiedenen Property-Namen für Fire Rating\n",
        "        possible_names = ['FireRating', 'fire_rating', 'FireRatingName', 'FireResistance']\n",
        "        for prop_name, prop_value in properties.items():\n",
        "            if prop_name in possible_names:\n",
        "                fire_rating = prop_value\n",
        "                break\n",
        "        if fire_rating:\n",
        "            break\n",
        "\n",
        "    # Finde Geschoss\n",
        "    storey = 'Not assigned'\n",
        "    for rel in model.by_type('IfcRelContainedInSpatialStructure'):\n",
        "        if element in rel.RelatedElements:\n",
        "            if rel.RelatingStructure and rel.RelatingStructure.is_a('IfcBuildingStorey'):\n",
        "                storey = rel.RelatingStructure.LongName or rel.RelatingStructure.Name\n",
        "                break\n",
        "\n",
        "    element_data.append({\n",
        "        'ElementId': element_id,\n",
        "        'ElementType': element_type,\n",
        "        'ElementName': element_name,\n",
        "        'FireRating': fire_rating or 'Nicht klassifiziert',\n",
        "        'Storey': storey\n",
        "    })\n",
        "\n",
        "df = pd.DataFrame(element_data)"
      ]
    },
    {
      "cell_type": "markdown",
      "metadata": {
        "id": "fyY3W9oKXw8K"
      },
      "source": [
        "## Step 4: Create aggregations for visualization\n"
      ]
    },
    {
      "cell_type": "code",
      "execution_count": null,
      "metadata": {
        "id": "s4Id_08bXw8K"
      },
      "outputs": [],
      "source": [
        "# Fire Rating Verteilung\n",
        "fire_rating_counts = (\n",
        "    df.groupby('FireRating')['ElementId']\n",
        "    .nunique()\n",
        "    .reset_index(name='Count')\n",
        "    .sort_values('Count', ascending=False)\n",
        ")\n",
        "\n",
        "# Fire Rating nach Elementtyp\n",
        "fire_rating_by_type = (\n",
        "    df.groupby(['FireRating', 'ElementType'])['ElementId']\n",
        "    .nunique()\n",
        "    .reset_index(name='Count')\n",
        "    .sort_values('Count', ascending=False)\n",
        ")\n",
        "\n",
        "# Fire Rating nach Geschoss\n",
        "fire_rating_by_storey = (\n",
        "    df.groupby(['FireRating', 'Storey'])['ElementId']\n",
        "    .nunique()\n",
        "    .reset_index(name='Count')\n",
        "    .sort_values('Count', ascending=False)\n",
        ")\n"
      ]
    },
    {
      "cell_type": "markdown",
      "metadata": {
        "id": "W5_8CWKVXw8L"
      },
      "source": [
        "## Step 5: Build a simple dashboard\n"
      ]
    },
    {
      "cell_type": "code",
      "execution_count": null,
      "metadata": {
        "id": "ls0sNkXjXw8L"
      },
      "outputs": [],
      "source": [
        "from dash import Dash, dcc, html\n",
        "import plotly.express as px\n",
        "\n",
        "app = Dash(__name__)\n",
        "\n",
        "# Diagramme erstellen\n",
        "fig_fire_overview = px.bar(\n",
        "    fire_rating_counts,\n",
        "    x='FireRating',\n",
        "    y='Count',\n",
        "    title='Fire Rating Verteilung',\n",
        "    text_auto='.0f'\n",
        ")\n",
        "\n",
        "fig_fire_by_type = px.bar(\n",
        "    fire_rating_by_type,\n",
        "    x='ElementType',\n",
        "    y='Count',\n",
        "    color='FireRating',\n",
        "    title='Fire Rating nach Elementtyp'\n",
        ")\n",
        "\n",
        "fig_fire_by_storey = px.bar(\n",
        "    fire_rating_by_storey,\n",
        "    x='Storey',\n",
        "    y='Count',\n",
        "    color='FireRating',\n",
        "    title='Fire Rating nach Geschoss'\n",
        ")\n",
        "\n",
        "# Heatmap\n",
        "fig_heatmap = px.density_heatmap(\n",
        "    df[df['FireRating'] != 'Nicht klassifiziert'],\n",
        "    x='ElementType',\n",
        "    y='FireRating',\n",
        "    z='Count',\n",
        "    title='Fire Rating vs Elementtyp'\n",
        ")\n",
        "\n",
        "app.layout = html.Div([\n",
        "    html.H1('Fire Rating Dashboard'),\n",
        "    html.P('Brandschutzklassifikation der Gebäudeelemente'),\n",
        "\n",
        "    dcc.Tabs([\n",
        "        dcc.Tab(label='Übersicht', children=[\n",
        "            html.H3('Gesamtverteilung'),\n",
        "            dcc.Graph(figure=fig_fire_overview)\n",
        "        ]),\n",
        "        dcc.Tab(label='Nach Elementtyp', children=[\n",
        "            html.H3('Fire Rating nach Bauteiltyp'),\n",
        "            dcc.Graph(figure=fig_fire_by_type)\n",
        "        ]),\n",
        "        dcc.Tab(label='Nach Geschoss', children=[\n",
        "            html.H3('Fire Rating pro Geschoss'),\n",
        "            dcc.Graph(figure=fig_fire_by_storey)\n",
        "        ]),\n",
        "        dcc.Tab(label='Heatmap', children=[\n",
        "            html.H3('Fire Rating Heatmap'),\n",
        "            dcc.Graph(figure=fig_heatmap)\n",
        "        ])\n",
        "    ])\n",
        "])\n",
        "\n",
        "app.run(jupyter_mode='inline', height=900, port=8050)\n"
      ]
    },
    {
      "cell_type": "markdown",
      "metadata": {
        "id": "LLuKYoeEXw8L"
      },
      "source": [
        "## Next Steps\n",
        "\n",
        "**Extend this template:**\n",
        "- Add more tabs for different analyses\n",
        "- Include materials data\n",
        "- Add filters with dropdowns\n",
        "- Try different chart types\n",
        "\n",
        "**Try other files:**\n",
        "- Change the `github_url` to load different IFC files\n",
        "- Upload your own IFC files using file upload widgets\n",
        "\n",
        "**Learn more:**\n",
        "- [IFCOpenShell Documentation](https://docs.ifcopenshell.org/)\n",
        "- [Plotly Dash Documentation](https://dash.plotly.com/)\n",
        "- [Full example: BFH-25-Tabbed-Dashboard.ipynb](https://github.com/louistrue/learn-ifc-bfh25-B/blob/main/BFH-25-Tabbed-Dashboard.ipynb)\n"
      ]
    }
  ],
  "metadata": {
    "kernelspec": {
      "display_name": "Python 3",
      "language": "python",
      "name": "python3"
    },
    "language_info": {
      "name": "python",
      "version": "3.11"
    },
    "colab": {
      "provenance": [],
      "include_colab_link": true
    }
  },
  "nbformat": 4,
  "nbformat_minor": 0
}