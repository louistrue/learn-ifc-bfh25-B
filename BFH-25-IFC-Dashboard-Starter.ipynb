{
  "cells": [
    {
      "cell_type": "markdown",
      "metadata": {
        "id": "5ep9-E7QXw8C"
      },
      "source": [
        "<a href=\"https://colab.research.google.com/github/louistrue/learn-ifc-bfh25-B/blob/main/BFH-25-IFC-Dashboard-Starter.ipynb\" target=\"_parent\"><img src=\"https://colab.research.google.com/assets/colab-badge.svg\" alt=\"Open In Colab\"/></a>\n"
      ]
    },
    {
      "cell_type": "markdown",
      "metadata": {
        "id": "ZTrk8ebTXw8G"
      },
      "source": [
        "# IFC Dashboard Starter Template\n",
        "\n",
        "A minimal template to get started building IFC data dashboards.\n",
        "\n",
        "**What this does:**\n",
        "- Load an IFC file from GitHub\n",
        "- Extract element types and building storeys\n",
        "- Create a simple 2-tab dashboard\n"
      ]
    },
    {
      "cell_type": "markdown",
      "metadata": {
        "id": "JZHNL9SBXw8H"
      },
      "source": [
        "## Step 1: Install packages\n"
      ]
    },
    {
      "cell_type": "code",
      "execution_count": null,
      "metadata": {
        "id": "QyKtgOOKXw8H"
      },
      "outputs": [],
      "source": [
        "%pip install -q ifcopenshell pandas plotly dash\n"
      ]
    },
    {
      "cell_type": "markdown",
      "metadata": {
        "id": "DbxMIttYXw8J"
      },
      "source": [
        "## Step 2: Load IFC file from GitHub\n"
      ]
    },
    {
      "cell_type": "code",
      "execution_count": 6,
      "metadata": {
        "id": "jfjJvw_HXw8J",
        "outputId": "2dbb996c-8aa6-4696-a6df-a1fadf897b28",
        "colab": {
          "base_uri": "https://localhost:8080/",
          "height": 373
        }
      },
      "outputs": [
        {
          "output_type": "stream",
          "name": "stdout",
          "text": [
            "📥 Downloading IFC file...\n"
          ]
        },
        {
          "output_type": "error",
          "ename": "HTTPError",
          "evalue": "HTTP Error 404: Not Found",
          "traceback": [
            "\u001b[0;31m---------------------------------------------------------------------------\u001b[0m",
            "\u001b[0;31mHTTPError\u001b[0m                                 Traceback (most recent call last)",
            "\u001b[0;32m/tmp/ipython-input-3778264640.py\u001b[0m in \u001b[0;36m<cell line: 0>\u001b[0;34m()\u001b[0m\n\u001b[1;32m      7\u001b[0m \u001b[0;34m\u001b[0m\u001b[0m\n\u001b[1;32m      8\u001b[0m \u001b[0mprint\u001b[0m\u001b[0;34m(\u001b[0m\u001b[0;34m\"📥 Downloading IFC file...\"\u001b[0m\u001b[0;34m)\u001b[0m\u001b[0;34m\u001b[0m\u001b[0;34m\u001b[0m\u001b[0m\n\u001b[0;32m----> 9\u001b[0;31m \u001b[0murllib\u001b[0m\u001b[0;34m.\u001b[0m\u001b[0mrequest\u001b[0m\u001b[0;34m.\u001b[0m\u001b[0murlretrieve\u001b[0m\u001b[0;34m(\u001b[0m\u001b[0mgithub_url\u001b[0m\u001b[0;34m,\u001b[0m \u001b[0mlocal_filename\u001b[0m\u001b[0;34m)\u001b[0m\u001b[0;34m\u001b[0m\u001b[0;34m\u001b[0m\u001b[0m\n\u001b[0m\u001b[1;32m     10\u001b[0m \u001b[0mprint\u001b[0m\u001b[0;34m(\u001b[0m\u001b[0;34m\"✅ Downloaded successfully!\"\u001b[0m\u001b[0;34m)\u001b[0m\u001b[0;34m\u001b[0m\u001b[0;34m\u001b[0m\u001b[0m\n\u001b[1;32m     11\u001b[0m \u001b[0;34m\u001b[0m\u001b[0m\n",
            "\u001b[0;32m/usr/lib/python3.12/urllib/request.py\u001b[0m in \u001b[0;36murlretrieve\u001b[0;34m(url, filename, reporthook, data)\u001b[0m\n\u001b[1;32m    238\u001b[0m     \u001b[0murl_type\u001b[0m\u001b[0;34m,\u001b[0m \u001b[0mpath\u001b[0m \u001b[0;34m=\u001b[0m \u001b[0m_splittype\u001b[0m\u001b[0;34m(\u001b[0m\u001b[0murl\u001b[0m\u001b[0;34m)\u001b[0m\u001b[0;34m\u001b[0m\u001b[0;34m\u001b[0m\u001b[0m\n\u001b[1;32m    239\u001b[0m \u001b[0;34m\u001b[0m\u001b[0m\n\u001b[0;32m--> 240\u001b[0;31m     \u001b[0;32mwith\u001b[0m \u001b[0mcontextlib\u001b[0m\u001b[0;34m.\u001b[0m\u001b[0mclosing\u001b[0m\u001b[0;34m(\u001b[0m\u001b[0murlopen\u001b[0m\u001b[0;34m(\u001b[0m\u001b[0murl\u001b[0m\u001b[0;34m,\u001b[0m \u001b[0mdata\u001b[0m\u001b[0;34m)\u001b[0m\u001b[0;34m)\u001b[0m \u001b[0;32mas\u001b[0m \u001b[0mfp\u001b[0m\u001b[0;34m:\u001b[0m\u001b[0;34m\u001b[0m\u001b[0;34m\u001b[0m\u001b[0m\n\u001b[0m\u001b[1;32m    241\u001b[0m         \u001b[0mheaders\u001b[0m \u001b[0;34m=\u001b[0m \u001b[0mfp\u001b[0m\u001b[0;34m.\u001b[0m\u001b[0minfo\u001b[0m\u001b[0;34m(\u001b[0m\u001b[0;34m)\u001b[0m\u001b[0;34m\u001b[0m\u001b[0;34m\u001b[0m\u001b[0m\n\u001b[1;32m    242\u001b[0m \u001b[0;34m\u001b[0m\u001b[0m\n",
            "\u001b[0;32m/usr/lib/python3.12/urllib/request.py\u001b[0m in \u001b[0;36murlopen\u001b[0;34m(url, data, timeout, cafile, capath, cadefault, context)\u001b[0m\n\u001b[1;32m    213\u001b[0m     \u001b[0;32melse\u001b[0m\u001b[0;34m:\u001b[0m\u001b[0;34m\u001b[0m\u001b[0;34m\u001b[0m\u001b[0m\n\u001b[1;32m    214\u001b[0m         \u001b[0mopener\u001b[0m \u001b[0;34m=\u001b[0m \u001b[0m_opener\u001b[0m\u001b[0;34m\u001b[0m\u001b[0;34m\u001b[0m\u001b[0m\n\u001b[0;32m--> 215\u001b[0;31m     \u001b[0;32mreturn\u001b[0m \u001b[0mopener\u001b[0m\u001b[0;34m.\u001b[0m\u001b[0mopen\u001b[0m\u001b[0;34m(\u001b[0m\u001b[0murl\u001b[0m\u001b[0;34m,\u001b[0m \u001b[0mdata\u001b[0m\u001b[0;34m,\u001b[0m \u001b[0mtimeout\u001b[0m\u001b[0;34m)\u001b[0m\u001b[0;34m\u001b[0m\u001b[0;34m\u001b[0m\u001b[0m\n\u001b[0m\u001b[1;32m    216\u001b[0m \u001b[0;34m\u001b[0m\u001b[0m\n\u001b[1;32m    217\u001b[0m \u001b[0;32mdef\u001b[0m \u001b[0minstall_opener\u001b[0m\u001b[0;34m(\u001b[0m\u001b[0mopener\u001b[0m\u001b[0;34m)\u001b[0m\u001b[0;34m:\u001b[0m\u001b[0;34m\u001b[0m\u001b[0;34m\u001b[0m\u001b[0m\n",
            "\u001b[0;32m/usr/lib/python3.12/urllib/request.py\u001b[0m in \u001b[0;36mopen\u001b[0;34m(self, fullurl, data, timeout)\u001b[0m\n\u001b[1;32m    519\u001b[0m         \u001b[0;32mfor\u001b[0m \u001b[0mprocessor\u001b[0m \u001b[0;32min\u001b[0m \u001b[0mself\u001b[0m\u001b[0;34m.\u001b[0m\u001b[0mprocess_response\u001b[0m\u001b[0;34m.\u001b[0m\u001b[0mget\u001b[0m\u001b[0;34m(\u001b[0m\u001b[0mprotocol\u001b[0m\u001b[0;34m,\u001b[0m \u001b[0;34m[\u001b[0m\u001b[0;34m]\u001b[0m\u001b[0;34m)\u001b[0m\u001b[0;34m:\u001b[0m\u001b[0;34m\u001b[0m\u001b[0;34m\u001b[0m\u001b[0m\n\u001b[1;32m    520\u001b[0m             \u001b[0mmeth\u001b[0m \u001b[0;34m=\u001b[0m \u001b[0mgetattr\u001b[0m\u001b[0;34m(\u001b[0m\u001b[0mprocessor\u001b[0m\u001b[0;34m,\u001b[0m \u001b[0mmeth_name\u001b[0m\u001b[0;34m)\u001b[0m\u001b[0;34m\u001b[0m\u001b[0;34m\u001b[0m\u001b[0m\n\u001b[0;32m--> 521\u001b[0;31m             \u001b[0mresponse\u001b[0m \u001b[0;34m=\u001b[0m \u001b[0mmeth\u001b[0m\u001b[0;34m(\u001b[0m\u001b[0mreq\u001b[0m\u001b[0;34m,\u001b[0m \u001b[0mresponse\u001b[0m\u001b[0;34m)\u001b[0m\u001b[0;34m\u001b[0m\u001b[0;34m\u001b[0m\u001b[0m\n\u001b[0m\u001b[1;32m    522\u001b[0m \u001b[0;34m\u001b[0m\u001b[0m\n\u001b[1;32m    523\u001b[0m         \u001b[0;32mreturn\u001b[0m \u001b[0mresponse\u001b[0m\u001b[0;34m\u001b[0m\u001b[0;34m\u001b[0m\u001b[0m\n",
            "\u001b[0;32m/usr/lib/python3.12/urllib/request.py\u001b[0m in \u001b[0;36mhttp_response\u001b[0;34m(self, request, response)\u001b[0m\n\u001b[1;32m    628\u001b[0m         \u001b[0;31m# request was successfully received, understood, and accepted.\u001b[0m\u001b[0;34m\u001b[0m\u001b[0;34m\u001b[0m\u001b[0m\n\u001b[1;32m    629\u001b[0m         \u001b[0;32mif\u001b[0m \u001b[0;32mnot\u001b[0m \u001b[0;34m(\u001b[0m\u001b[0;36m200\u001b[0m \u001b[0;34m<=\u001b[0m \u001b[0mcode\u001b[0m \u001b[0;34m<\u001b[0m \u001b[0;36m300\u001b[0m\u001b[0;34m)\u001b[0m\u001b[0;34m:\u001b[0m\u001b[0;34m\u001b[0m\u001b[0;34m\u001b[0m\u001b[0m\n\u001b[0;32m--> 630\u001b[0;31m             response = self.parent.error(\n\u001b[0m\u001b[1;32m    631\u001b[0m                 'http', request, response, code, msg, hdrs)\n\u001b[1;32m    632\u001b[0m \u001b[0;34m\u001b[0m\u001b[0m\n",
            "\u001b[0;32m/usr/lib/python3.12/urllib/request.py\u001b[0m in \u001b[0;36merror\u001b[0;34m(self, proto, *args)\u001b[0m\n\u001b[1;32m    557\u001b[0m         \u001b[0;32mif\u001b[0m \u001b[0mhttp_err\u001b[0m\u001b[0;34m:\u001b[0m\u001b[0;34m\u001b[0m\u001b[0;34m\u001b[0m\u001b[0m\n\u001b[1;32m    558\u001b[0m             \u001b[0margs\u001b[0m \u001b[0;34m=\u001b[0m \u001b[0;34m(\u001b[0m\u001b[0mdict\u001b[0m\u001b[0;34m,\u001b[0m \u001b[0;34m'default'\u001b[0m\u001b[0;34m,\u001b[0m \u001b[0;34m'http_error_default'\u001b[0m\u001b[0;34m)\u001b[0m \u001b[0;34m+\u001b[0m \u001b[0morig_args\u001b[0m\u001b[0;34m\u001b[0m\u001b[0;34m\u001b[0m\u001b[0m\n\u001b[0;32m--> 559\u001b[0;31m             \u001b[0;32mreturn\u001b[0m \u001b[0mself\u001b[0m\u001b[0;34m.\u001b[0m\u001b[0m_call_chain\u001b[0m\u001b[0;34m(\u001b[0m\u001b[0;34m*\u001b[0m\u001b[0margs\u001b[0m\u001b[0;34m)\u001b[0m\u001b[0;34m\u001b[0m\u001b[0;34m\u001b[0m\u001b[0m\n\u001b[0m\u001b[1;32m    560\u001b[0m \u001b[0;34m\u001b[0m\u001b[0m\n\u001b[1;32m    561\u001b[0m \u001b[0;31m# XXX probably also want an abstract factory that knows when it makes\u001b[0m\u001b[0;34m\u001b[0m\u001b[0;34m\u001b[0m\u001b[0m\n",
            "\u001b[0;32m/usr/lib/python3.12/urllib/request.py\u001b[0m in \u001b[0;36m_call_chain\u001b[0;34m(self, chain, kind, meth_name, *args)\u001b[0m\n\u001b[1;32m    490\u001b[0m         \u001b[0;32mfor\u001b[0m \u001b[0mhandler\u001b[0m \u001b[0;32min\u001b[0m \u001b[0mhandlers\u001b[0m\u001b[0;34m:\u001b[0m\u001b[0;34m\u001b[0m\u001b[0;34m\u001b[0m\u001b[0m\n\u001b[1;32m    491\u001b[0m             \u001b[0mfunc\u001b[0m \u001b[0;34m=\u001b[0m \u001b[0mgetattr\u001b[0m\u001b[0;34m(\u001b[0m\u001b[0mhandler\u001b[0m\u001b[0;34m,\u001b[0m \u001b[0mmeth_name\u001b[0m\u001b[0;34m)\u001b[0m\u001b[0;34m\u001b[0m\u001b[0;34m\u001b[0m\u001b[0m\n\u001b[0;32m--> 492\u001b[0;31m             \u001b[0mresult\u001b[0m \u001b[0;34m=\u001b[0m \u001b[0mfunc\u001b[0m\u001b[0;34m(\u001b[0m\u001b[0;34m*\u001b[0m\u001b[0margs\u001b[0m\u001b[0;34m)\u001b[0m\u001b[0;34m\u001b[0m\u001b[0;34m\u001b[0m\u001b[0m\n\u001b[0m\u001b[1;32m    493\u001b[0m             \u001b[0;32mif\u001b[0m \u001b[0mresult\u001b[0m \u001b[0;32mis\u001b[0m \u001b[0;32mnot\u001b[0m \u001b[0;32mNone\u001b[0m\u001b[0;34m:\u001b[0m\u001b[0;34m\u001b[0m\u001b[0;34m\u001b[0m\u001b[0m\n\u001b[1;32m    494\u001b[0m                 \u001b[0;32mreturn\u001b[0m \u001b[0mresult\u001b[0m\u001b[0;34m\u001b[0m\u001b[0;34m\u001b[0m\u001b[0m\n",
            "\u001b[0;32m/usr/lib/python3.12/urllib/request.py\u001b[0m in \u001b[0;36mhttp_error_default\u001b[0;34m(self, req, fp, code, msg, hdrs)\u001b[0m\n\u001b[1;32m    637\u001b[0m \u001b[0;32mclass\u001b[0m \u001b[0mHTTPDefaultErrorHandler\u001b[0m\u001b[0;34m(\u001b[0m\u001b[0mBaseHandler\u001b[0m\u001b[0;34m)\u001b[0m\u001b[0;34m:\u001b[0m\u001b[0;34m\u001b[0m\u001b[0;34m\u001b[0m\u001b[0m\n\u001b[1;32m    638\u001b[0m     \u001b[0;32mdef\u001b[0m \u001b[0mhttp_error_default\u001b[0m\u001b[0;34m(\u001b[0m\u001b[0mself\u001b[0m\u001b[0;34m,\u001b[0m \u001b[0mreq\u001b[0m\u001b[0;34m,\u001b[0m \u001b[0mfp\u001b[0m\u001b[0;34m,\u001b[0m \u001b[0mcode\u001b[0m\u001b[0;34m,\u001b[0m \u001b[0mmsg\u001b[0m\u001b[0;34m,\u001b[0m \u001b[0mhdrs\u001b[0m\u001b[0;34m)\u001b[0m\u001b[0;34m:\u001b[0m\u001b[0;34m\u001b[0m\u001b[0;34m\u001b[0m\u001b[0m\n\u001b[0;32m--> 639\u001b[0;31m         \u001b[0;32mraise\u001b[0m \u001b[0mHTTPError\u001b[0m\u001b[0;34m(\u001b[0m\u001b[0mreq\u001b[0m\u001b[0;34m.\u001b[0m\u001b[0mfull_url\u001b[0m\u001b[0;34m,\u001b[0m \u001b[0mcode\u001b[0m\u001b[0;34m,\u001b[0m \u001b[0mmsg\u001b[0m\u001b[0;34m,\u001b[0m \u001b[0mhdrs\u001b[0m\u001b[0;34m,\u001b[0m \u001b[0mfp\u001b[0m\u001b[0;34m)\u001b[0m\u001b[0;34m\u001b[0m\u001b[0;34m\u001b[0m\u001b[0m\n\u001b[0m\u001b[1;32m    640\u001b[0m \u001b[0;34m\u001b[0m\u001b[0m\n\u001b[1;32m    641\u001b[0m \u001b[0;32mclass\u001b[0m \u001b[0mHTTPRedirectHandler\u001b[0m\u001b[0;34m(\u001b[0m\u001b[0mBaseHandler\u001b[0m\u001b[0;34m)\u001b[0m\u001b[0;34m:\u001b[0m\u001b[0;34m\u001b[0m\u001b[0;34m\u001b[0m\u001b[0m\n",
            "\u001b[0;31mHTTPError\u001b[0m: HTTP Error 404: Not Found"
          ]
        }
      ],
      "source": [
        "import urllib.request\n",
        "import ifcopenshell\n",
        "\n",
        "# Download IFC file from GitHub\n",
        "github_url = 'https://raw.githubusercontent.com/louistrue/learn-ifc-bfh25-B/main/Modelle/BFH-25/04_CT.ifc'\n",
        "local_filename = '04_CT.ifc'\n",
        "\n",
        "print(\"📥 Downloading IFC file...\")\n",
        "urllib.request.urlretrieve(github_url, local_filename)\n",
        "print(\"✅ Downloaded successfully!\")\n",
        "\n",
        "# Open IFC file\n",
        "model = ifcopenshell.open(local_filename)\n",
        "print(f\"\\n🏗️ Loaded: {model.schema}\")\n",
        "print(f\"📊 Total elements: {len(model.by_type('IfcElement'))}\")\n"
      ]
    },
    {
      "cell_type": "markdown",
      "metadata": {
        "id": "pV6c2EJ9Xw8J"
      },
      "source": [
        "## Step 3: Parse IFC data\n",
        "\n",
        "Extract elements and their building storeys.\n"
      ]
    },
    {
      "cell_type": "code",
      "execution_count": null,
      "metadata": {
        "id": "nyXonlA6Xw8K"
      },
      "outputs": [],
      "source": [
        "import ifcopenshell.util.element as uel\n",
        "import pandas as pd\n",
        "\n",
        "element_data = []\n",
        "\n",
        "for element in model.by_type('IfcElement'):\n",
        "    element_id = element.GlobalId\n",
        "    element_type = element.is_a()\n",
        "    element_name = getattr(element, 'Name', None) or 'Unnamed'\n",
        "\n",
        "    # Property Sets extrahieren\n",
        "    psets = uel.get_psets(element)\n",
        "\n",
        "    # Nach Fire Rating Property suchen\n",
        "    fire_rating = None\n",
        "    for pset_name, properties in psets.items():\n",
        "        # Suche nach verschiedenen Property-Namen für Fire Rating\n",
        "        possible_names = ['FireRating', 'fire_rating', 'FireRatingName', 'FireResistance']\n",
        "        for prop_name, prop_value in properties.items():\n",
        "            if prop_name in possible_names:\n",
        "                fire_rating = prop_value\n",
        "                break\n",
        "        if fire_rating:\n",
        "            break\n",
        "\n",
        "    # Finde Geschoss\n",
        "    storey = 'Not assigned'\n",
        "    for rel in model.by_type('IfcRelContainedInSpatialStructure'):\n",
        "        if element in rel.RelatedElements:\n",
        "            if rel.RelatingStructure and rel.RelatingStructure.is_a('IfcBuildingStorey'):\n",
        "                storey = rel.RelatingStructure.LongName or rel.RelatingStructure.Name\n",
        "                break\n",
        "\n",
        "    element_data.append({\n",
        "        'ElementId': element_id,\n",
        "        'ElementType': element_type,\n",
        "        'ElementName': element_name,\n",
        "        'FireRating': fire_rating or 'Nicht klassifiziert',\n",
        "        'Storey': storey\n",
        "    })\n",
        "\n",
        "df = pd.DataFrame(element_data)"
      ]
    },
    {
      "cell_type": "markdown",
      "metadata": {
        "id": "fyY3W9oKXw8K"
      },
      "source": [
        "## Step 4: Create aggregations for visualization\n"
      ]
    },
    {
      "cell_type": "code",
      "execution_count": null,
      "metadata": {
        "id": "s4Id_08bXw8K"
      },
      "outputs": [],
      "source": [
        "# Fire Rating Verteilung\n",
        "fire_rating_counts = (\n",
        "    df.groupby('FireRating')['ElementId']\n",
        "    .nunique()\n",
        "    .reset_index(name='Count')\n",
        "    .sort_values('Count', ascending=False)\n",
        ")\n",
        "\n",
        "# Fire Rating nach Elementtyp\n",
        "fire_rating_by_type = (\n",
        "    df.groupby(['FireRating', 'ElementType'])['ElementId']\n",
        "    .nunique()\n",
        "    .reset_index(name='Count')\n",
        "    .sort_values('Count', ascending=False)\n",
        ")\n",
        "\n",
        "# Fire Rating nach Geschoss\n",
        "fire_rating_by_storey = (\n",
        "    df.groupby(['FireRating', 'Storey'])['ElementId']\n",
        "    .nunique()\n",
        "    .reset_index(name='Count')\n",
        "    .sort_values('Count', ascending=False)\n",
        ")\n"
      ]
    },
    {
      "cell_type": "markdown",
      "metadata": {
        "id": "W5_8CWKVXw8L"
      },
      "source": [
        "## Step 5: Build a simple dashboard\n"
      ]
    },
    {
      "cell_type": "code",
      "execution_count": null,
      "metadata": {
        "id": "ls0sNkXjXw8L"
      },
      "outputs": [],
      "source": [
        "from dash import Dash, dcc, html\n",
        "import plotly.express as px\n",
        "\n",
        "app = Dash(__name__)\n",
        "\n",
        "# Diagramme erstellen\n",
        "fig_fire_overview = px.bar(\n",
        "    fire_rating_counts,\n",
        "    x='FireRating',\n",
        "    y='Count',\n",
        "    title='Fire Rating Verteilung',\n",
        "    text_auto='.0f'\n",
        ")\n",
        "\n",
        "fig_fire_by_type = px.bar(\n",
        "    fire_rating_by_type,\n",
        "    x='ElementType',\n",
        "    y='Count',\n",
        "    color='FireRating',\n",
        "    title='Fire Rating nach Elementtyp'\n",
        ")\n",
        "\n",
        "fig_fire_by_storey = px.bar(\n",
        "    fire_rating_by_storey,\n",
        "    x='Storey',\n",
        "    y='Count',\n",
        "    color='FireRating',\n",
        "    title='Fire Rating nach Geschoss'\n",
        ")\n",
        "\n",
        "# Heatmap\n",
        "fig_heatmap = px.density_heatmap(\n",
        "    df[df['FireRating'] != 'Nicht klassifiziert'],\n",
        "    x='ElementType',\n",
        "    y='FireRating',\n",
        "    z='Count',\n",
        "    title='Fire Rating vs Elementtyp'\n",
        ")\n",
        "\n",
        "app.layout = html.Div([\n",
        "    html.H1('Fire Rating Dashboard'),\n",
        "    html.P('Brandschutzklassifikation der Gebäudeelemente'),\n",
        "\n",
        "    dcc.Tabs([\n",
        "        dcc.Tab(label='Übersicht', children=[\n",
        "            html.H3('Gesamtverteilung'),\n",
        "            dcc.Graph(figure=fig_fire_overview)\n",
        "        ]),\n",
        "        dcc.Tab(label='Nach Elementtyp', children=[\n",
        "            html.H3('Fire Rating nach Bauteiltyp'),\n",
        "            dcc.Graph(figure=fig_fire_by_type)\n",
        "        ]),\n",
        "        dcc.Tab(label='Nach Geschoss', children=[\n",
        "            html.H3('Fire Rating pro Geschoss'),\n",
        "            dcc.Graph(figure=fig_fire_by_storey)\n",
        "        ]),\n",
        "        dcc.Tab(label='Heatmap', children=[\n",
        "            html.H3('Fire Rating Heatmap'),\n",
        "            dcc.Graph(figure=fig_heatmap)\n",
        "        ])\n",
        "    ])\n",
        "])\n",
        "\n",
        "app.run(jupyter_mode='inline', height=900, port=8050)\n"
      ]
    },
    {
      "cell_type": "markdown",
      "metadata": {
        "id": "LLuKYoeEXw8L"
      },
      "source": [
        "## Next Steps\n",
        "\n",
        "**Extend this template:**\n",
        "- Add more tabs for different analyses\n",
        "- Include materials data\n",
        "- Add filters with dropdowns\n",
        "- Try different chart types\n",
        "\n",
        "**Try other files:**\n",
        "- Change the `github_url` to load different IFC files\n",
        "- Upload your own IFC files using file upload widgets\n",
        "\n",
        "**Learn more:**\n",
        "- [IFCOpenShell Documentation](https://docs.ifcopenshell.org/)\n",
        "- [Plotly Dash Documentation](https://dash.plotly.com/)\n",
        "- [Full example: BFH-25-Tabbed-Dashboard.ipynb](https://github.com/louistrue/learn-ifc-bfh25-B/blob/main/BFH-25-Tabbed-Dashboard.ipynb)\n"
      ]
    }
  ],
  "metadata": {
    "kernelspec": {
      "display_name": "Python 3",
      "language": "python",
      "name": "python3"
    },
    "language_info": {
      "name": "python",
      "version": "3.11"
    },
    "colab": {
      "provenance": []
    }
  },
  "nbformat": 4,
  "nbformat_minor": 0
}